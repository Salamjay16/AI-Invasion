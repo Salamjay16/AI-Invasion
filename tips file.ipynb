{
 "cells": [
  {
   "cell_type": "code",
   "execution_count": 3,
   "id": "2ad02d3e",
   "metadata": {},
   "outputs": [],
   "source": [
    "import pandas as pd\n",
    "import numpy as np\n",
    "import seaborn as sns\n",
    "import matplotlib as plt\n",
    "%matplotlib inline"
   ]
  },
  {
   "cell_type": "code",
   "execution_count": 4,
   "id": "8112dba3",
   "metadata": {},
   "outputs": [],
   "source": [
    "df = pd.read_csv(\"tips.csv\")"
   ]
  },
  {
   "cell_type": "code",
   "execution_count": 5,
   "id": "e60c332e",
   "metadata": {},
   "outputs": [
    {
     "data": {
      "text/html": [
       "<div>\n",
       "<style scoped>\n",
       "    .dataframe tbody tr th:only-of-type {\n",
       "        vertical-align: middle;\n",
       "    }\n",
       "\n",
       "    .dataframe tbody tr th {\n",
       "        vertical-align: top;\n",
       "    }\n",
       "\n",
       "    .dataframe thead th {\n",
       "        text-align: right;\n",
       "    }\n",
       "</style>\n",
       "<table border=\"1\" class=\"dataframe\">\n",
       "  <thead>\n",
       "    <tr style=\"text-align: right;\">\n",
       "      <th></th>\n",
       "      <th>total_bill</th>\n",
       "      <th>tip</th>\n",
       "      <th>gender</th>\n",
       "      <th>smoker</th>\n",
       "      <th>day</th>\n",
       "      <th>time</th>\n",
       "      <th>size</th>\n",
       "    </tr>\n",
       "  </thead>\n",
       "  <tbody>\n",
       "    <tr>\n",
       "      <th>0</th>\n",
       "      <td>2125.50</td>\n",
       "      <td>360.79</td>\n",
       "      <td>Male</td>\n",
       "      <td>No</td>\n",
       "      <td>Thur</td>\n",
       "      <td>Lunch</td>\n",
       "      <td>1</td>\n",
       "    </tr>\n",
       "    <tr>\n",
       "      <th>1</th>\n",
       "      <td>2727.18</td>\n",
       "      <td>259.42</td>\n",
       "      <td>Female</td>\n",
       "      <td>No</td>\n",
       "      <td>Sun</td>\n",
       "      <td>Dinner</td>\n",
       "      <td>5</td>\n",
       "    </tr>\n",
       "    <tr>\n",
       "      <th>2</th>\n",
       "      <td>1066.02</td>\n",
       "      <td>274.68</td>\n",
       "      <td>Female</td>\n",
       "      <td>Yes</td>\n",
       "      <td>Thur</td>\n",
       "      <td>Dinner</td>\n",
       "      <td>4</td>\n",
       "    </tr>\n",
       "    <tr>\n",
       "      <th>3</th>\n",
       "      <td>3493.45</td>\n",
       "      <td>337.90</td>\n",
       "      <td>Female</td>\n",
       "      <td>No</td>\n",
       "      <td>Sun</td>\n",
       "      <td>Dinner</td>\n",
       "      <td>1</td>\n",
       "    </tr>\n",
       "    <tr>\n",
       "      <th>4</th>\n",
       "      <td>3470.56</td>\n",
       "      <td>567.89</td>\n",
       "      <td>Male</td>\n",
       "      <td>Yes</td>\n",
       "      <td>Sun</td>\n",
       "      <td>Lunch</td>\n",
       "      <td>6</td>\n",
       "    </tr>\n",
       "  </tbody>\n",
       "</table>\n",
       "</div>"
      ],
      "text/plain": [
       "   total_bill     tip  gender smoker   day    time  size\n",
       "0     2125.50  360.79    Male     No  Thur   Lunch     1\n",
       "1     2727.18  259.42  Female     No   Sun  Dinner     5\n",
       "2     1066.02  274.68  Female    Yes  Thur  Dinner     4\n",
       "3     3493.45  337.90  Female     No   Sun  Dinner     1\n",
       "4     3470.56  567.89    Male    Yes   Sun   Lunch     6"
      ]
     },
     "execution_count": 5,
     "metadata": {},
     "output_type": "execute_result"
    }
   ],
   "source": [
    "df.head()"
   ]
  },
  {
   "cell_type": "code",
   "execution_count": 6,
   "id": "2ef6db37",
   "metadata": {},
   "outputs": [
    {
     "name": "stdout",
     "output_type": "stream",
     "text": [
      "<class 'pandas.core.frame.DataFrame'>\n",
      "RangeIndex: 744 entries, 0 to 743\n",
      "Data columns (total 7 columns):\n",
      " #   Column      Non-Null Count  Dtype  \n",
      "---  ------      --------------  -----  \n",
      " 0   total_bill  744 non-null    float64\n",
      " 1   tip         744 non-null    float64\n",
      " 2   gender      744 non-null    object \n",
      " 3   smoker      744 non-null    object \n",
      " 4   day         744 non-null    object \n",
      " 5   time        744 non-null    object \n",
      " 6   size        744 non-null    int64  \n",
      "dtypes: float64(2), int64(1), object(4)\n",
      "memory usage: 40.8+ KB\n",
      "df_shape: (744, 7)\n"
     ]
    }
   ],
   "source": [
    "df.info()\n",
    "\n",
    "print(\"df_shape:\", df.shape)\n",
    "#print(\"test_shape:\", test.shape)"
   ]
  },
  {
   "cell_type": "code",
   "execution_count": 7,
   "id": "5079c9ac",
   "metadata": {},
   "outputs": [
    {
     "data": {
      "text/plain": [
       "total_bill    float64\n",
       "tip           float64\n",
       "gender         object\n",
       "smoker         object\n",
       "day            object\n",
       "time           object\n",
       "size            int64\n",
       "dtype: object"
      ]
     },
     "execution_count": 7,
     "metadata": {},
     "output_type": "execute_result"
    }
   ],
   "source": [
    "df.dtypes"
   ]
  },
  {
   "cell_type": "code",
   "execution_count": 8,
   "id": "ebae6c54",
   "metadata": {},
   "outputs": [
    {
     "data": {
      "text/html": [
       "<div>\n",
       "<style scoped>\n",
       "    .dataframe tbody tr th:only-of-type {\n",
       "        vertical-align: middle;\n",
       "    }\n",
       "\n",
       "    .dataframe tbody tr th {\n",
       "        vertical-align: top;\n",
       "    }\n",
       "\n",
       "    .dataframe thead th {\n",
       "        text-align: right;\n",
       "    }\n",
       "</style>\n",
       "<table border=\"1\" class=\"dataframe\">\n",
       "  <thead>\n",
       "    <tr style=\"text-align: right;\">\n",
       "      <th></th>\n",
       "      <th>total_bill</th>\n",
       "      <th>tip</th>\n",
       "      <th>size</th>\n",
       "    </tr>\n",
       "  </thead>\n",
       "  <tbody>\n",
       "    <tr>\n",
       "      <th>count</th>\n",
       "      <td>744.000000</td>\n",
       "      <td>744.000000</td>\n",
       "      <td>744.000000</td>\n",
       "    </tr>\n",
       "    <tr>\n",
       "      <th>mean</th>\n",
       "      <td>2165.006640</td>\n",
       "      <td>325.948091</td>\n",
       "      <td>3.180108</td>\n",
       "    </tr>\n",
       "    <tr>\n",
       "      <th>std</th>\n",
       "      <td>954.248806</td>\n",
       "      <td>148.778225</td>\n",
       "      <td>1.532890</td>\n",
       "    </tr>\n",
       "    <tr>\n",
       "      <th>min</th>\n",
       "      <td>44.690000</td>\n",
       "      <td>0.000000</td>\n",
       "      <td>1.000000</td>\n",
       "    </tr>\n",
       "    <tr>\n",
       "      <th>25%</th>\n",
       "      <td>1499.022500</td>\n",
       "      <td>218.000000</td>\n",
       "      <td>2.000000</td>\n",
       "    </tr>\n",
       "    <tr>\n",
       "      <th>50%</th>\n",
       "      <td>2102.610000</td>\n",
       "      <td>320.460000</td>\n",
       "      <td>3.000000</td>\n",
       "    </tr>\n",
       "    <tr>\n",
       "      <th>75%</th>\n",
       "      <td>2743.802500</td>\n",
       "      <td>415.562500</td>\n",
       "      <td>4.000000</td>\n",
       "    </tr>\n",
       "    <tr>\n",
       "      <th>max</th>\n",
       "      <td>5538.290000</td>\n",
       "      <td>1090.000000</td>\n",
       "      <td>6.000000</td>\n",
       "    </tr>\n",
       "  </tbody>\n",
       "</table>\n",
       "</div>"
      ],
      "text/plain": [
       "        total_bill          tip        size\n",
       "count   744.000000   744.000000  744.000000\n",
       "mean   2165.006640   325.948091    3.180108\n",
       "std     954.248806   148.778225    1.532890\n",
       "min      44.690000     0.000000    1.000000\n",
       "25%    1499.022500   218.000000    2.000000\n",
       "50%    2102.610000   320.460000    3.000000\n",
       "75%    2743.802500   415.562500    4.000000\n",
       "max    5538.290000  1090.000000    6.000000"
      ]
     },
     "execution_count": 8,
     "metadata": {},
     "output_type": "execute_result"
    }
   ],
   "source": [
    "df.describe()"
   ]
  },
  {
   "cell_type": "code",
   "execution_count": 9,
   "id": "a145e8c8",
   "metadata": {},
   "outputs": [
    {
     "data": {
      "text/plain": [
       "total_bill    0\n",
       "tip           0\n",
       "gender        0\n",
       "smoker        0\n",
       "day           0\n",
       "time          0\n",
       "size          0\n",
       "dtype: int64"
      ]
     },
     "execution_count": 9,
     "metadata": {},
     "output_type": "execute_result"
    }
   ],
   "source": [
    "df.isnull().sum()"
   ]
  },
  {
   "cell_type": "code",
   "execution_count": 10,
   "id": "fb92a3d5",
   "metadata": {},
   "outputs": [
    {
     "data": {
      "text/html": [
       "<div>\n",
       "<style scoped>\n",
       "    .dataframe tbody tr th:only-of-type {\n",
       "        vertical-align: middle;\n",
       "    }\n",
       "\n",
       "    .dataframe tbody tr th {\n",
       "        vertical-align: top;\n",
       "    }\n",
       "\n",
       "    .dataframe thead th {\n",
       "        text-align: right;\n",
       "    }\n",
       "</style>\n",
       "<table border=\"1\" class=\"dataframe\">\n",
       "  <thead>\n",
       "    <tr style=\"text-align: right;\">\n",
       "      <th></th>\n",
       "      <th>total_bill</th>\n",
       "      <th>tip</th>\n",
       "      <th>size</th>\n",
       "    </tr>\n",
       "  </thead>\n",
       "  <tbody>\n",
       "    <tr>\n",
       "      <th>count</th>\n",
       "      <td>744.000000</td>\n",
       "      <td>744.000000</td>\n",
       "      <td>744.000000</td>\n",
       "    </tr>\n",
       "    <tr>\n",
       "      <th>mean</th>\n",
       "      <td>2165.006640</td>\n",
       "      <td>325.948091</td>\n",
       "      <td>3.180108</td>\n",
       "    </tr>\n",
       "    <tr>\n",
       "      <th>std</th>\n",
       "      <td>954.248806</td>\n",
       "      <td>148.778225</td>\n",
       "      <td>1.532890</td>\n",
       "    </tr>\n",
       "    <tr>\n",
       "      <th>min</th>\n",
       "      <td>44.690000</td>\n",
       "      <td>0.000000</td>\n",
       "      <td>1.000000</td>\n",
       "    </tr>\n",
       "    <tr>\n",
       "      <th>25%</th>\n",
       "      <td>1499.022500</td>\n",
       "      <td>218.000000</td>\n",
       "      <td>2.000000</td>\n",
       "    </tr>\n",
       "    <tr>\n",
       "      <th>50%</th>\n",
       "      <td>2102.610000</td>\n",
       "      <td>320.460000</td>\n",
       "      <td>3.000000</td>\n",
       "    </tr>\n",
       "    <tr>\n",
       "      <th>75%</th>\n",
       "      <td>2743.802500</td>\n",
       "      <td>415.562500</td>\n",
       "      <td>4.000000</td>\n",
       "    </tr>\n",
       "    <tr>\n",
       "      <th>max</th>\n",
       "      <td>5538.290000</td>\n",
       "      <td>1090.000000</td>\n",
       "      <td>6.000000</td>\n",
       "    </tr>\n",
       "  </tbody>\n",
       "</table>\n",
       "</div>"
      ],
      "text/plain": [
       "        total_bill          tip        size\n",
       "count   744.000000   744.000000  744.000000\n",
       "mean   2165.006640   325.948091    3.180108\n",
       "std     954.248806   148.778225    1.532890\n",
       "min      44.690000     0.000000    1.000000\n",
       "25%    1499.022500   218.000000    2.000000\n",
       "50%    2102.610000   320.460000    3.000000\n",
       "75%    2743.802500   415.562500    4.000000\n",
       "max    5538.290000  1090.000000    6.000000"
      ]
     },
     "execution_count": 10,
     "metadata": {},
     "output_type": "execute_result"
    }
   ],
   "source": [
    "df.describe()"
   ]
  },
  {
   "cell_type": "code",
   "execution_count": 11,
   "id": "ee5b2032",
   "metadata": {},
   "outputs": [],
   "source": [
    "#avg_bill = df[\"total_bill\"].mean()"
   ]
  },
  {
   "cell_type": "code",
   "execution_count": 12,
   "id": "2f67ec32",
   "metadata": {},
   "outputs": [],
   "source": [
    "#df[\"total_bill\"].mode()"
   ]
  },
  {
   "cell_type": "code",
   "execution_count": 13,
   "id": "4a714cd6",
   "metadata": {},
   "outputs": [],
   "source": [
    "#df[\"total_bill\"].fillna(avg_tips ,inplace = True)"
   ]
  },
  {
   "cell_type": "code",
   "execution_count": 14,
   "id": "5a84d0d6",
   "metadata": {},
   "outputs": [
    {
     "data": {
      "text/plain": [
       "Index(['total_bill', 'tip', 'gender', 'smoker', 'day', 'time', 'size'], dtype='object')"
      ]
     },
     "execution_count": 14,
     "metadata": {},
     "output_type": "execute_result"
    }
   ],
   "source": [
    "df.columns"
   ]
  },
  {
   "cell_type": "code",
   "execution_count": 15,
   "id": "908dd282",
   "metadata": {},
   "outputs": [
    {
     "data": {
      "text/plain": [
       "total_bill    0\n",
       "tip           0\n",
       "gender        0\n",
       "smoker        0\n",
       "day           0\n",
       "time          0\n",
       "size          0\n",
       "dtype: int64"
      ]
     },
     "execution_count": 15,
     "metadata": {},
     "output_type": "execute_result"
    }
   ],
   "source": [
    "df.isnull().sum()"
   ]
  },
  {
   "cell_type": "code",
   "execution_count": 16,
   "id": "b3af81f3",
   "metadata": {},
   "outputs": [],
   "source": [
    "# avg_bill = df[\"total_bill\"].mean()\n",
    "# df[\"total_bill\"].fillna(avg_bill ,inplace = True)"
   ]
  },
  {
   "cell_type": "markdown",
   "id": "4124cccd",
   "metadata": {},
   "source": [
    "# # Handling Categorical Column"
   ]
  },
  {
   "cell_type": "code",
   "execution_count": 17,
   "id": "9b0a548d",
   "metadata": {},
   "outputs": [],
   "source": [
    "# Categorical_cols = df.select_dtypes(include = 'object')\n",
    "# Categorical_cols.head()"
   ]
  },
  {
   "cell_type": "code",
   "execution_count": 18,
   "id": "5462fd73",
   "metadata": {},
   "outputs": [],
   "source": [
    "from sklearn.preprocessing import LabelEncoder\n",
    "cols = ['gender', 'smoker', 'day', 'time']\n",
    "for i in cols:\n",
    "    le= LabelEncoder()\n",
    "    df[i] = le.fit_transform(df[i].astype(str))"
   ]
  },
  {
   "cell_type": "code",
   "execution_count": 19,
   "id": "9a356a03",
   "metadata": {},
   "outputs": [],
   "source": [
    "# df.head()"
   ]
  },
  {
   "cell_type": "code",
   "execution_count": 20,
   "id": "f9a7d7bd",
   "metadata": {},
   "outputs": [],
   "source": [
    "#DEPENDENT VARIABLE:target column dat we are trying to predict\n",
    "y = df[\"tip\"]\n",
    "\n",
    "#INDEPENDENT VARIABLE: \n",
    "x = df.drop(\"tip\", axis = 1)"
   ]
  },
  {
   "cell_type": "code",
   "execution_count": 21,
   "id": "f797146e",
   "metadata": {},
   "outputs": [],
   "source": [
    "from sklearn.model_selection import train_test_split\n",
    "\n",
    "x_train, x_test, y_train, y_test = train_test_split(x, y, test_size = 0.3)"
   ]
  },
  {
   "cell_type": "markdown",
   "id": "dfe93aa4",
   "metadata": {},
   "source": [
    "# # TRAINING ONE'S MODEL: load one's data into the Linear Regression Model"
   ]
  },
  {
   "cell_type": "code",
   "execution_count": 22,
   "id": "800c526b",
   "metadata": {},
   "outputs": [
    {
     "data": {
      "text/plain": [
       "LinearRegression()"
      ]
     },
     "execution_count": 22,
     "metadata": {},
     "output_type": "execute_result"
    }
   ],
   "source": [
    "from sklearn.linear_model import LinearRegression\n",
    "\n",
    "reg = LinearRegression()\n",
    "reg.fit(x_train, y_train)"
   ]
  },
  {
   "cell_type": "code",
   "execution_count": null,
   "id": "02370e9f",
   "metadata": {},
   "outputs": [],
   "source": []
  },
  {
   "cell_type": "markdown",
   "id": "7cff7e69",
   "metadata": {},
   "source": [
    "#   Make PREDICTIONS"
   ]
  },
  {
   "cell_type": "code",
   "execution_count": 23,
   "id": "4a343169",
   "metadata": {},
   "outputs": [
    {
     "data": {
      "text/plain": [
       "array([286.73769327, 342.98886086, 275.60562899, 286.24172967,\n",
       "       366.1496806 , 315.4831258 , 328.14473511, 306.51450281,\n",
       "       333.67202078, 303.56792356, 330.80138555, 318.39849724,\n",
       "       331.34041747, 357.54000352, 294.58583981, 292.73337688,\n",
       "       345.49609733, 287.13479193, 337.84900078, 291.36333078,\n",
       "       328.20038631, 309.04409785, 320.67218924, 319.36946046,\n",
       "       391.8880806 , 296.19530262, 320.14493632, 365.45836686,\n",
       "       288.38993465, 276.40566161, 281.43487245, 275.831462  ,\n",
       "       331.45797607, 300.85188026, 324.58200612, 332.90909415,\n",
       "       315.772334  , 340.80589696, 333.76529467, 324.68598631,\n",
       "       271.32736505, 320.45204204, 299.34517015, 331.90254357,\n",
       "       310.4392169 , 307.73568326, 333.65537036, 367.21416208,\n",
       "       362.32992465, 281.36946217, 284.75048689, 399.23563814,\n",
       "       352.13214642, 328.00769534, 288.06440296, 300.87706659,\n",
       "       367.06601703, 307.08602514, 344.51990556, 347.54736242,\n",
       "       327.05638622, 324.57370652, 361.80196092, 377.11377788,\n",
       "       345.58098031, 303.13982127, 345.44643574, 363.84635376,\n",
       "       294.78223236, 323.57799215, 281.67896868, 290.12579442,\n",
       "       356.47027549, 346.52766715, 277.86959316, 316.81273495,\n",
       "       303.08726455, 308.18327194, 286.25329222, 327.94676139,\n",
       "       323.0464314 , 340.52873039, 358.0338643 , 291.46915453,\n",
       "       267.57811158, 350.55708203, 316.99769238, 288.38248557,\n",
       "       377.67555913, 358.04335132, 350.96608712, 355.50350724,\n",
       "       320.6580711 , 340.58595297, 351.54020956, 341.53804523,\n",
       "       340.6133912 , 378.47297797, 337.08041043, 296.84980399,\n",
       "       320.73580048, 319.93293576, 320.70792707, 332.28808852,\n",
       "       311.5588371 , 292.16697023, 338.92847422, 392.63354586,\n",
       "       350.15711553, 314.44960787, 364.1349324 , 346.63391725,\n",
       "       325.34294851, 367.46126682, 289.87174412, 292.06235597,\n",
       "       295.11820268, 354.94193996, 329.33921155, 314.00194589,\n",
       "       324.94499362, 343.16877978, 269.18439745, 292.69272755,\n",
       "       322.17605359, 294.22297931, 384.61574214, 343.78732114,\n",
       "       321.03013823, 366.52861565, 380.34173668, 324.21413105,\n",
       "       285.9478091 , 339.17962505, 318.03055867, 360.25596965,\n",
       "       307.04027814, 366.79230778, 287.73331633, 320.60671643,\n",
       "       285.61404518, 348.18566763, 323.26985383, 345.22899363,\n",
       "       336.9660014 , 328.29585293, 335.65464142, 367.36706912,\n",
       "       324.81294113, 309.9321949 , 376.3601439 , 320.42975518,\n",
       "       388.04406724, 294.15342396, 269.98017594, 259.34295134,\n",
       "       276.16941205, 353.24047218, 315.70390256, 325.2063382 ,\n",
       "       279.62163247, 324.80100732, 365.1919881 , 306.26137224,\n",
       "       299.24503654, 327.70436354, 308.37966449, 290.01471979,\n",
       "       294.63109246, 325.17789465, 353.67518002, 322.69009928,\n",
       "       318.91582796, 351.09042815, 322.55647541, 404.72960884,\n",
       "       370.94092981, 339.02515483, 322.72791264, 359.31538871,\n",
       "       364.05629741, 338.16512124, 368.30859188, 297.41492397,\n",
       "       275.610159  , 316.78186281, 405.73105043, 392.80837691,\n",
       "       359.41022578, 329.15808314, 335.80216125, 327.71896623,\n",
       "       313.37822536, 332.50986626, 416.49160544, 383.69777924,\n",
       "       297.3685927 , 277.43128732, 302.81754273, 303.45342756,\n",
       "       273.82935434, 360.94541653, 421.47622506, 321.07858053,\n",
       "       298.75048703, 326.98362734, 298.58934776, 290.61410573,\n",
       "       378.33805764, 333.6801215 , 264.24673865, 307.83016231,\n",
       "       302.98656055, 384.4782399 , 350.5755178 , 310.6411325 ,\n",
       "       365.76554836, 290.12414974, 288.0603477 , 330.57229939,\n",
       "       338.9310978 , 285.75391272, 335.73065345, 344.42797777])"
      ]
     },
     "execution_count": 23,
     "metadata": {},
     "output_type": "execute_result"
    }
   ],
   "source": [
    "reg.predict(x_test)"
   ]
  },
  {
   "cell_type": "markdown",
   "id": "a6969207",
   "metadata": {},
   "source": [
    "# Evaluate your MODEL"
   ]
  },
  {
   "cell_type": "code",
   "execution_count": 24,
   "id": "df5b9a8c",
   "metadata": {},
   "outputs": [
    {
     "name": "stdout",
     "output_type": "stream",
     "text": [
      "mean_absolute_error is: 114.4962600994498\n"
     ]
    }
   ],
   "source": [
    "from sklearn.metrics import mean_absolute_error, mean_squared_error, r2_score\n",
    "\n",
    "# we are using mean_absolute_error because\n",
    "# this is a regression model\n",
    "\n",
    "y_prediction = reg.predict(x_test)\n",
    "\n",
    "print('mean_absolute_error is:', mean_absolute_error(y_test, y_prediction))\n",
    "# actual before the prediction in (y_test, y_prediction)"
   ]
  },
  {
   "cell_type": "code",
   "execution_count": 25,
   "id": "ad968075",
   "metadata": {},
   "outputs": [
    {
     "name": "stdout",
     "output_type": "stream",
     "text": [
      "mean_absolute_error is: 114.4962600994498\n"
     ]
    }
   ],
   "source": [
    "from sklearn.metrics import mean_absolute_error, mean_squared_error, r2_score\n",
    "\n",
    "# TODO: Evaluate your model using the following \n",
    "# - R Square?Adjusted R square\n",
    "# - Mean Square Error(MSE)/Root Mean Square Error(RMSE)\n",
    "# - Mean Absolute Error\n",
    "\n",
    "y_prediction = reg.predict(x_test)\n",
    "print('mean_absolute_error is:', mean_absolute_error(y_test, y_prediction))\n",
    "# actual before the prediction in (y_test, y_prediction)"
   ]
  },
  {
   "cell_type": "code",
   "execution_count": 26,
   "id": "c2956741",
   "metadata": {},
   "outputs": [
    {
     "name": "stdout",
     "output_type": "stream",
     "text": [
      "rmse is: 148.27143105136457\n"
     ]
    }
   ],
   "source": [
    "print('rmse is:', mean_squared_error(y_test, y_prediction, squared = False))"
   ]
  },
  {
   "cell_type": "code",
   "execution_count": 27,
   "id": "3537bd8c",
   "metadata": {},
   "outputs": [
    {
     "name": "stdout",
     "output_type": "stream",
     "text": [
      "rmse is: 148.27143105136457\n"
     ]
    }
   ],
   "source": [
    "from math import sqrt\n",
    "print('rmse is:', sqrt(mean_squared_error(y_test, y_prediction,)))"
   ]
  },
  {
   "cell_type": "code",
   "execution_count": 28,
   "id": "aea08c74",
   "metadata": {},
   "outputs": [
    {
     "name": "stdout",
     "output_type": "stream",
     "text": [
      "R2_score is: 0.05950991375372772\n"
     ]
    }
   ],
   "source": [
    "print(\"R2_score is:\", r2_score(y_test, y_prediction))"
   ]
  },
  {
   "cell_type": "code",
   "execution_count": 29,
   "id": "f1c8e0a0",
   "metadata": {},
   "outputs": [
    {
     "name": "stdout",
     "output_type": "stream",
     "text": [
      "XGB is: 129.22684642859866\n"
     ]
    }
   ],
   "source": [
    "from xgboost import XGBRegressor\n",
    "\n",
    "xgb = XGBRegressor()\n",
    "\n",
    "xgb.fit(x_train, y_train)\n",
    "y_prediction = xgb.predict(x_test)\n",
    "print(\"XGB is:\", mean_absolute_error(y_test, y_prediction))"
   ]
  },
  {
   "cell_type": "code",
   "execution_count": 30,
   "id": "53db8e4d",
   "metadata": {},
   "outputs": [
    {
     "name": "stdout",
     "output_type": "stream",
     "text": [
      "mean_absolute_error is: 129.22684642859866\n"
     ]
    }
   ],
   "source": [
    "from sklearn.metrics import mean_absolute_error\n",
    "\n",
    "y_prediction = xgb.predict(x_test)\n",
    "print('mean_absolute_error is:', mean_absolute_error(y_test, y_prediction))\n",
    "# actual before the prediction in (y_test, y_prediction)"
   ]
  },
  {
   "cell_type": "code",
   "execution_count": 31,
   "id": "4bcb406f",
   "metadata": {},
   "outputs": [
    {
     "name": "stdout",
     "output_type": "stream",
     "text": [
      "rmse is: 168.4608580806632\n"
     ]
    }
   ],
   "source": [
    "print('rmse is:', mean_squared_error(y_test, y_prediction, squared = False))"
   ]
  },
  {
   "cell_type": "code",
   "execution_count": 32,
   "id": "a990ad46",
   "metadata": {},
   "outputs": [
    {
     "name": "stdout",
     "output_type": "stream",
     "text": [
      "rmse is: 168.4608580806632\n"
     ]
    }
   ],
   "source": [
    "print('rmse is:', sqrt(mean_squared_error(y_test, y_prediction,)))"
   ]
  },
  {
   "cell_type": "code",
   "execution_count": 91,
   "id": "abea56a3",
   "metadata": {},
   "outputs": [
    {
     "name": "stdout",
     "output_type": "stream",
     "text": [
      "R2_score is: -0.4254958102950053\n"
     ]
    }
   ],
   "source": [
    "print(\"R2_score is:\", r2_score(y_test, y_prediction))"
   ]
  },
  {
   "cell_type": "code",
   "execution_count": null,
   "id": "622f5e32",
   "metadata": {},
   "outputs": [],
   "source": []
  }
 ],
 "metadata": {
  "kernelspec": {
   "display_name": "Python 3 (ipykernel)",
   "language": "python",
   "name": "python3"
  },
  "language_info": {
   "codemirror_mode": {
    "name": "ipython",
    "version": 3
   },
   "file_extension": ".py",
   "mimetype": "text/x-python",
   "name": "python",
   "nbconvert_exporter": "python",
   "pygments_lexer": "ipython3",
   "version": "3.9.7"
  }
 },
 "nbformat": 4,
 "nbformat_minor": 5
}
