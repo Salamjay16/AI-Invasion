{
 "cells": [
  {
   "cell_type": "code",
   "execution_count": 1,
   "id": "48cf7d84",
   "metadata": {},
   "outputs": [],
   "source": [
    "import pandas as pd\n",
    "import numpy as np\n",
    "import seaborn as sns\n",
    "import matplotlib as plt\n",
    "%matplotlib inline"
   ]
  },
  {
   "cell_type": "code",
   "execution_count": 2,
   "id": "e0614b6f",
   "metadata": {},
   "outputs": [],
   "source": [
    "df = pd.read_csv(\"AI_Invasion.csv\")"
   ]
  },
  {
   "cell_type": "code",
   "execution_count": 3,
   "id": "8a959faa",
   "metadata": {},
   "outputs": [
    {
     "data": {
      "text/html": [
       "<div>\n",
       "<style scoped>\n",
       "    .dataframe tbody tr th:only-of-type {\n",
       "        vertical-align: middle;\n",
       "    }\n",
       "\n",
       "    .dataframe tbody tr th {\n",
       "        vertical-align: top;\n",
       "    }\n",
       "\n",
       "    .dataframe thead th {\n",
       "        text-align: right;\n",
       "    }\n",
       "</style>\n",
       "<table border=\"1\" class=\"dataframe\">\n",
       "  <thead>\n",
       "    <tr style=\"text-align: right;\">\n",
       "      <th></th>\n",
       "      <th>Location</th>\n",
       "      <th>Maker</th>\n",
       "      <th>Model</th>\n",
       "      <th>Year</th>\n",
       "      <th>Colour</th>\n",
       "      <th>Amount (Million ₦)</th>\n",
       "      <th>Type</th>\n",
       "      <th>Distance_Km</th>\n",
       "    </tr>\n",
       "  </thead>\n",
       "  <tbody>\n",
       "    <tr>\n",
       "      <th>0</th>\n",
       "      <td>Abuja</td>\n",
       "      <td>Mercedes-Benz</td>\n",
       "      <td>GLA 250</td>\n",
       "      <td>2015</td>\n",
       "      <td>Brown</td>\n",
       "      <td>14.50</td>\n",
       "      <td>Foreign Used</td>\n",
       "      <td>50000.0</td>\n",
       "    </tr>\n",
       "    <tr>\n",
       "      <th>1</th>\n",
       "      <td>Abuja</td>\n",
       "      <td>Hyundai</td>\n",
       "      <td>Accent</td>\n",
       "      <td>2013</td>\n",
       "      <td>Red</td>\n",
       "      <td>1.55</td>\n",
       "      <td>Nigerian Used</td>\n",
       "      <td>NaN</td>\n",
       "    </tr>\n",
       "    <tr>\n",
       "      <th>2</th>\n",
       "      <td>Lagos</td>\n",
       "      <td>Lexus</td>\n",
       "      <td>GX 460 Premium</td>\n",
       "      <td>2011</td>\n",
       "      <td>White</td>\n",
       "      <td>14.00</td>\n",
       "      <td>Foreign Used</td>\n",
       "      <td>85000.0</td>\n",
       "    </tr>\n",
       "    <tr>\n",
       "      <th>3</th>\n",
       "      <td>Lagos</td>\n",
       "      <td>Lexus</td>\n",
       "      <td>ES 350</td>\n",
       "      <td>2011</td>\n",
       "      <td>Gray</td>\n",
       "      <td>4.95</td>\n",
       "      <td>Foreign Used</td>\n",
       "      <td>NaN</td>\n",
       "    </tr>\n",
       "    <tr>\n",
       "      <th>4</th>\n",
       "      <td>Ibadan</td>\n",
       "      <td>Toyota</td>\n",
       "      <td>Verso 1.6</td>\n",
       "      <td>2009</td>\n",
       "      <td>Silver</td>\n",
       "      <td>1.69</td>\n",
       "      <td>Nigerian Used</td>\n",
       "      <td>118906.0</td>\n",
       "    </tr>\n",
       "  </tbody>\n",
       "</table>\n",
       "</div>"
      ],
      "text/plain": [
       "  Location          Maker           Model  Year  Colour  Amount (Million ₦)  \\\n",
       "0    Abuja  Mercedes-Benz         GLA 250  2015   Brown               14.50   \n",
       "1    Abuja        Hyundai          Accent  2013     Red                1.55   \n",
       "2    Lagos          Lexus  GX 460 Premium  2011   White               14.00   \n",
       "3    Lagos          Lexus          ES 350  2011    Gray                4.95   \n",
       "4   Ibadan         Toyota       Verso 1.6  2009  Silver                1.69   \n",
       "\n",
       "            Type  Distance_Km  \n",
       "0   Foreign Used      50000.0  \n",
       "1  Nigerian Used          NaN  \n",
       "2   Foreign Used      85000.0  \n",
       "3   Foreign Used          NaN  \n",
       "4  Nigerian Used     118906.0  "
      ]
     },
     "execution_count": 3,
     "metadata": {},
     "output_type": "execute_result"
    }
   ],
   "source": [
    "df.head()"
   ]
  },
  {
   "cell_type": "code",
   "execution_count": 4,
   "id": "47918515",
   "metadata": {},
   "outputs": [
    {
     "name": "stdout",
     "output_type": "stream",
     "text": [
      "<class 'pandas.core.frame.DataFrame'>\n",
      "RangeIndex: 4487 entries, 0 to 4486\n",
      "Data columns (total 8 columns):\n",
      " #   Column              Non-Null Count  Dtype  \n",
      "---  ------              --------------  -----  \n",
      " 0   Location            4487 non-null   object \n",
      " 1   Maker               4487 non-null   object \n",
      " 2   Model               4487 non-null   object \n",
      " 3   Year                4487 non-null   int64  \n",
      " 4   Colour              4487 non-null   object \n",
      " 5   Amount (Million ₦)  4487 non-null   float64\n",
      " 6   Type                4487 non-null   object \n",
      " 7   Distance_Km         2932 non-null   float64\n",
      "dtypes: float64(2), int64(1), object(5)\n",
      "memory usage: 280.6+ KB\n"
     ]
    }
   ],
   "source": [
    "df.info()"
   ]
  },
  {
   "cell_type": "code",
   "execution_count": 5,
   "id": "d987c7cd",
   "metadata": {},
   "outputs": [
    {
     "name": "stdout",
     "output_type": "stream",
     "text": [
      "df_shape: (4487, 8)\n"
     ]
    }
   ],
   "source": [
    "print(\"df_shape:\", df.shape)"
   ]
  },
  {
   "cell_type": "code",
   "execution_count": 6,
   "id": "174b2bac",
   "metadata": {},
   "outputs": [
    {
     "data": {
      "text/plain": [
       "Index(['Location', 'Maker', 'Model', 'Year', 'Colour', 'Amount (Million ₦)',\n",
       "       'Type', 'Distance_Km'],\n",
       "      dtype='object')"
      ]
     },
     "execution_count": 6,
     "metadata": {},
     "output_type": "execute_result"
    }
   ],
   "source": [
    "df.columns"
   ]
  },
  {
   "cell_type": "code",
   "execution_count": 7,
   "id": "96e0ed71",
   "metadata": {},
   "outputs": [
    {
     "data": {
      "text/plain": [
       "Location               object\n",
       "Maker                  object\n",
       "Model                  object\n",
       "Year                    int64\n",
       "Colour                 object\n",
       "Amount (Million ₦)    float64\n",
       "Type                   object\n",
       "Distance_Km           float64\n",
       "dtype: object"
      ]
     },
     "execution_count": 7,
     "metadata": {},
     "output_type": "execute_result"
    }
   ],
   "source": [
    "df.dtypes"
   ]
  },
  {
   "cell_type": "code",
   "execution_count": 8,
   "id": "8055f2a9",
   "metadata": {},
   "outputs": [
    {
     "data": {
      "text/plain": [
       "Location                 0\n",
       "Maker                    0\n",
       "Model                    0\n",
       "Year                     0\n",
       "Colour                   0\n",
       "Amount (Million ₦)       0\n",
       "Type                     0\n",
       "Distance_Km           1555\n",
       "dtype: int64"
      ]
     },
     "execution_count": 8,
     "metadata": {},
     "output_type": "execute_result"
    }
   ],
   "source": [
    "df.isnull().sum()"
   ]
  },
  {
   "cell_type": "code",
   "execution_count": 9,
   "id": "13fb366b",
   "metadata": {},
   "outputs": [],
   "source": [
    "avg_distance = df[\"Distance_Km\"].mean()"
   ]
  },
  {
   "cell_type": "code",
   "execution_count": 10,
   "id": "f63e373c",
   "metadata": {},
   "outputs": [
    {
     "data": {
      "text/plain": [
       "0    75000.0\n",
       "dtype: float64"
      ]
     },
     "execution_count": 10,
     "metadata": {},
     "output_type": "execute_result"
    }
   ],
   "source": [
    "df[\"Distance_Km\"].mode()"
   ]
  },
  {
   "cell_type": "code",
   "execution_count": 11,
   "id": "0da4a538",
   "metadata": {},
   "outputs": [
    {
     "data": {
      "text/html": [
       "<div>\n",
       "<style scoped>\n",
       "    .dataframe tbody tr th:only-of-type {\n",
       "        vertical-align: middle;\n",
       "    }\n",
       "\n",
       "    .dataframe tbody tr th {\n",
       "        vertical-align: top;\n",
       "    }\n",
       "\n",
       "    .dataframe thead th {\n",
       "        text-align: right;\n",
       "    }\n",
       "</style>\n",
       "<table border=\"1\" class=\"dataframe\">\n",
       "  <thead>\n",
       "    <tr style=\"text-align: right;\">\n",
       "      <th></th>\n",
       "      <th>Year</th>\n",
       "      <th>Amount (Million ₦)</th>\n",
       "      <th>Distance_Km</th>\n",
       "    </tr>\n",
       "  </thead>\n",
       "  <tbody>\n",
       "    <tr>\n",
       "      <th>count</th>\n",
       "      <td>4487.000000</td>\n",
       "      <td>4487.000000</td>\n",
       "      <td>2.932000e+03</td>\n",
       "    </tr>\n",
       "    <tr>\n",
       "      <th>mean</th>\n",
       "      <td>2011.095610</td>\n",
       "      <td>11.309795</td>\n",
       "      <td>1.010383e+05</td>\n",
       "    </tr>\n",
       "    <tr>\n",
       "      <th>std</th>\n",
       "      <td>4.823362</td>\n",
       "      <td>20.585915</td>\n",
       "      <td>1.150914e+05</td>\n",
       "    </tr>\n",
       "    <tr>\n",
       "      <th>min</th>\n",
       "      <td>1982.000000</td>\n",
       "      <td>0.420000</td>\n",
       "      <td>1.000000e+00</td>\n",
       "    </tr>\n",
       "    <tr>\n",
       "      <th>25%</th>\n",
       "      <td>2008.000000</td>\n",
       "      <td>3.600000</td>\n",
       "      <td>5.237850e+04</td>\n",
       "    </tr>\n",
       "    <tr>\n",
       "      <th>50%</th>\n",
       "      <td>2011.000000</td>\n",
       "      <td>5.700000</td>\n",
       "      <td>7.900000e+04</td>\n",
       "    </tr>\n",
       "    <tr>\n",
       "      <th>75%</th>\n",
       "      <td>2014.000000</td>\n",
       "      <td>12.000000</td>\n",
       "      <td>1.099392e+05</td>\n",
       "    </tr>\n",
       "    <tr>\n",
       "      <th>max</th>\n",
       "      <td>2022.000000</td>\n",
       "      <td>454.000000</td>\n",
       "      <td>1.785448e+06</td>\n",
       "    </tr>\n",
       "  </tbody>\n",
       "</table>\n",
       "</div>"
      ],
      "text/plain": [
       "              Year  Amount (Million ₦)   Distance_Km\n",
       "count  4487.000000         4487.000000  2.932000e+03\n",
       "mean   2011.095610           11.309795  1.010383e+05\n",
       "std       4.823362           20.585915  1.150914e+05\n",
       "min    1982.000000            0.420000  1.000000e+00\n",
       "25%    2008.000000            3.600000  5.237850e+04\n",
       "50%    2011.000000            5.700000  7.900000e+04\n",
       "75%    2014.000000           12.000000  1.099392e+05\n",
       "max    2022.000000          454.000000  1.785448e+06"
      ]
     },
     "execution_count": 11,
     "metadata": {},
     "output_type": "execute_result"
    }
   ],
   "source": [
    "df.describe()"
   ]
  },
  {
   "cell_type": "code",
   "execution_count": 12,
   "id": "e39e95e8",
   "metadata": {},
   "outputs": [
    {
     "data": {
      "text/html": [
       "<div>\n",
       "<style scoped>\n",
       "    .dataframe tbody tr th:only-of-type {\n",
       "        vertical-align: middle;\n",
       "    }\n",
       "\n",
       "    .dataframe tbody tr th {\n",
       "        vertical-align: top;\n",
       "    }\n",
       "\n",
       "    .dataframe thead th {\n",
       "        text-align: right;\n",
       "    }\n",
       "</style>\n",
       "<table border=\"1\" class=\"dataframe\">\n",
       "  <thead>\n",
       "    <tr style=\"text-align: right;\">\n",
       "      <th></th>\n",
       "      <th>Year</th>\n",
       "      <th>Amount (Million ₦)</th>\n",
       "      <th>Distance_Km</th>\n",
       "    </tr>\n",
       "  </thead>\n",
       "  <tbody>\n",
       "    <tr>\n",
       "      <th>0</th>\n",
       "      <td>4.823362</td>\n",
       "      <td>0.420000</td>\n",
       "      <td>1.000000e+00</td>\n",
       "    </tr>\n",
       "    <tr>\n",
       "      <th>1</th>\n",
       "      <td>1982.000000</td>\n",
       "      <td>3.600000</td>\n",
       "      <td>2.932000e+03</td>\n",
       "    </tr>\n",
       "    <tr>\n",
       "      <th>2</th>\n",
       "      <td>2008.000000</td>\n",
       "      <td>5.700000</td>\n",
       "      <td>5.237850e+04</td>\n",
       "    </tr>\n",
       "    <tr>\n",
       "      <th>3</th>\n",
       "      <td>2011.000000</td>\n",
       "      <td>11.309795</td>\n",
       "      <td>7.900000e+04</td>\n",
       "    </tr>\n",
       "    <tr>\n",
       "      <th>4</th>\n",
       "      <td>2011.095610</td>\n",
       "      <td>12.000000</td>\n",
       "      <td>1.010383e+05</td>\n",
       "    </tr>\n",
       "    <tr>\n",
       "      <th>5</th>\n",
       "      <td>2014.000000</td>\n",
       "      <td>20.585915</td>\n",
       "      <td>1.099392e+05</td>\n",
       "    </tr>\n",
       "    <tr>\n",
       "      <th>6</th>\n",
       "      <td>2022.000000</td>\n",
       "      <td>454.000000</td>\n",
       "      <td>1.150914e+05</td>\n",
       "    </tr>\n",
       "    <tr>\n",
       "      <th>7</th>\n",
       "      <td>4487.000000</td>\n",
       "      <td>4487.000000</td>\n",
       "      <td>1.785448e+06</td>\n",
       "    </tr>\n",
       "  </tbody>\n",
       "</table>\n",
       "</div>"
      ],
      "text/plain": [
       "          Year  Amount (Million ₦)   Distance_Km\n",
       "0     4.823362            0.420000  1.000000e+00\n",
       "1  1982.000000            3.600000  2.932000e+03\n",
       "2  2008.000000            5.700000  5.237850e+04\n",
       "3  2011.000000           11.309795  7.900000e+04\n",
       "4  2011.095610           12.000000  1.010383e+05\n",
       "5  2014.000000           20.585915  1.099392e+05\n",
       "6  2022.000000          454.000000  1.150914e+05\n",
       "7  4487.000000         4487.000000  1.785448e+06"
      ]
     },
     "execution_count": 12,
     "metadata": {},
     "output_type": "execute_result"
    }
   ],
   "source": [
    "df.describe().mode()"
   ]
  },
  {
   "cell_type": "code",
   "execution_count": 13,
   "id": "e92fbf77",
   "metadata": {},
   "outputs": [],
   "source": [
    "df[\"Distance_Km\"].fillna(avg_distance ,inplace = True)"
   ]
  },
  {
   "cell_type": "code",
   "execution_count": 14,
   "id": "9f98c356",
   "metadata": {},
   "outputs": [
    {
     "data": {
      "text/plain": [
       "Location              0\n",
       "Maker                 0\n",
       "Model                 0\n",
       "Year                  0\n",
       "Colour                0\n",
       "Amount (Million ₦)    0\n",
       "Type                  0\n",
       "Distance_Km           0\n",
       "dtype: int64"
      ]
     },
     "execution_count": 14,
     "metadata": {},
     "output_type": "execute_result"
    }
   ],
   "source": [
    "df.isnull().sum()"
   ]
  },
  {
   "cell_type": "code",
   "execution_count": 15,
   "id": "6ac33d99",
   "metadata": {},
   "outputs": [],
   "source": [
    "avg_distance = df[\"Distance_Km\"].mean()\n",
    "df[\"Distance_Km\"].fillna(avg_distance ,inplace = True)"
   ]
  },
  {
   "cell_type": "markdown",
   "id": "d61c5f0f",
   "metadata": {},
   "source": [
    "# Handling Categorical Column"
   ]
  },
  {
   "cell_type": "code",
   "execution_count": 16,
   "id": "ae6bcec2",
   "metadata": {},
   "outputs": [
    {
     "data": {
      "text/html": [
       "<div>\n",
       "<style scoped>\n",
       "    .dataframe tbody tr th:only-of-type {\n",
       "        vertical-align: middle;\n",
       "    }\n",
       "\n",
       "    .dataframe tbody tr th {\n",
       "        vertical-align: top;\n",
       "    }\n",
       "\n",
       "    .dataframe thead th {\n",
       "        text-align: right;\n",
       "    }\n",
       "</style>\n",
       "<table border=\"1\" class=\"dataframe\">\n",
       "  <thead>\n",
       "    <tr style=\"text-align: right;\">\n",
       "      <th></th>\n",
       "      <th>Location</th>\n",
       "      <th>Maker</th>\n",
       "      <th>Model</th>\n",
       "      <th>Colour</th>\n",
       "      <th>Type</th>\n",
       "    </tr>\n",
       "  </thead>\n",
       "  <tbody>\n",
       "    <tr>\n",
       "      <th>0</th>\n",
       "      <td>Abuja</td>\n",
       "      <td>Mercedes-Benz</td>\n",
       "      <td>GLA 250</td>\n",
       "      <td>Brown</td>\n",
       "      <td>Foreign Used</td>\n",
       "    </tr>\n",
       "    <tr>\n",
       "      <th>1</th>\n",
       "      <td>Abuja</td>\n",
       "      <td>Hyundai</td>\n",
       "      <td>Accent</td>\n",
       "      <td>Red</td>\n",
       "      <td>Nigerian Used</td>\n",
       "    </tr>\n",
       "    <tr>\n",
       "      <th>2</th>\n",
       "      <td>Lagos</td>\n",
       "      <td>Lexus</td>\n",
       "      <td>GX 460 Premium</td>\n",
       "      <td>White</td>\n",
       "      <td>Foreign Used</td>\n",
       "    </tr>\n",
       "    <tr>\n",
       "      <th>3</th>\n",
       "      <td>Lagos</td>\n",
       "      <td>Lexus</td>\n",
       "      <td>ES 350</td>\n",
       "      <td>Gray</td>\n",
       "      <td>Foreign Used</td>\n",
       "    </tr>\n",
       "    <tr>\n",
       "      <th>4</th>\n",
       "      <td>Ibadan</td>\n",
       "      <td>Toyota</td>\n",
       "      <td>Verso 1.6</td>\n",
       "      <td>Silver</td>\n",
       "      <td>Nigerian Used</td>\n",
       "    </tr>\n",
       "  </tbody>\n",
       "</table>\n",
       "</div>"
      ],
      "text/plain": [
       "  Location          Maker           Model  Colour           Type\n",
       "0    Abuja  Mercedes-Benz         GLA 250   Brown   Foreign Used\n",
       "1    Abuja        Hyundai          Accent     Red  Nigerian Used\n",
       "2    Lagos          Lexus  GX 460 Premium   White   Foreign Used\n",
       "3    Lagos          Lexus          ES 350    Gray   Foreign Used\n",
       "4   Ibadan         Toyota       Verso 1.6  Silver  Nigerian Used"
      ]
     },
     "execution_count": 16,
     "metadata": {},
     "output_type": "execute_result"
    }
   ],
   "source": [
    "Categorical_cols = df.select_dtypes(include = 'object')\n",
    "Categorical_cols.head()"
   ]
  },
  {
   "cell_type": "code",
   "execution_count": 17,
   "id": "ba1729c8",
   "metadata": {},
   "outputs": [],
   "source": [
    "from sklearn.preprocessing import LabelEncoder\n",
    "cols = ['Location', 'Maker', 'Model', 'Colour', 'Type']\n",
    "for i in cols:\n",
    "    le= LabelEncoder()\n",
    "    df[i] = le.fit_transform(df[i].astype(str))"
   ]
  },
  {
   "cell_type": "code",
   "execution_count": 18,
   "id": "fede1070",
   "metadata": {},
   "outputs": [
    {
     "data": {
      "text/plain": [
       "101038.321282    1555\n",
       "75000.000000       39\n",
       "65000.000000       38\n",
       "85000.000000       35\n",
       "80000.000000       32\n",
       "                 ... \n",
       "62385.000000        1\n",
       "61515.000000        1\n",
       "62527.000000        1\n",
       "19736.000000        1\n",
       "90282.000000        1\n",
       "Name: Distance_Km, Length: 1933, dtype: int64"
      ]
     },
     "execution_count": 18,
     "metadata": {},
     "output_type": "execute_result"
    }
   ],
   "source": [
    "df.Distance_Km.value_counts()"
   ]
  },
  {
   "cell_type": "code",
   "execution_count": 19,
   "id": "bc663867",
   "metadata": {},
   "outputs": [
    {
     "data": {
      "text/html": [
       "<div>\n",
       "<style scoped>\n",
       "    .dataframe tbody tr th:only-of-type {\n",
       "        vertical-align: middle;\n",
       "    }\n",
       "\n",
       "    .dataframe tbody tr th {\n",
       "        vertical-align: top;\n",
       "    }\n",
       "\n",
       "    .dataframe thead th {\n",
       "        text-align: right;\n",
       "    }\n",
       "</style>\n",
       "<table border=\"1\" class=\"dataframe\">\n",
       "  <thead>\n",
       "    <tr style=\"text-align: right;\">\n",
       "      <th></th>\n",
       "      <th>Location</th>\n",
       "      <th>Maker</th>\n",
       "      <th>Model</th>\n",
       "      <th>Year</th>\n",
       "      <th>Colour</th>\n",
       "      <th>Amount (Million ₦)</th>\n",
       "      <th>Type</th>\n",
       "      <th>Distance_Km</th>\n",
       "    </tr>\n",
       "  </thead>\n",
       "  <tbody>\n",
       "    <tr>\n",
       "      <th>0</th>\n",
       "      <td>0</td>\n",
       "      <td>26</td>\n",
       "      <td>371</td>\n",
       "      <td>2015</td>\n",
       "      <td>3</td>\n",
       "      <td>14.50</td>\n",
       "      <td>1</td>\n",
       "      <td>50000.000000</td>\n",
       "    </tr>\n",
       "    <tr>\n",
       "      <th>1</th>\n",
       "      <td>0</td>\n",
       "      <td>14</td>\n",
       "      <td>81</td>\n",
       "      <td>2013</td>\n",
       "      <td>14</td>\n",
       "      <td>1.55</td>\n",
       "      <td>2</td>\n",
       "      <td>101038.321282</td>\n",
       "    </tr>\n",
       "    <tr>\n",
       "      <th>2</th>\n",
       "      <td>2</td>\n",
       "      <td>23</td>\n",
       "      <td>397</td>\n",
       "      <td>2011</td>\n",
       "      <td>17</td>\n",
       "      <td>14.00</td>\n",
       "      <td>1</td>\n",
       "      <td>85000.000000</td>\n",
       "    </tr>\n",
       "    <tr>\n",
       "      <th>3</th>\n",
       "      <td>2</td>\n",
       "      <td>23</td>\n",
       "      <td>297</td>\n",
       "      <td>2011</td>\n",
       "      <td>6</td>\n",
       "      <td>4.95</td>\n",
       "      <td>1</td>\n",
       "      <td>101038.321282</td>\n",
       "    </tr>\n",
       "    <tr>\n",
       "      <th>4</th>\n",
       "      <td>1</td>\n",
       "      <td>44</td>\n",
       "      <td>853</td>\n",
       "      <td>2009</td>\n",
       "      <td>15</td>\n",
       "      <td>1.69</td>\n",
       "      <td>2</td>\n",
       "      <td>118906.000000</td>\n",
       "    </tr>\n",
       "  </tbody>\n",
       "</table>\n",
       "</div>"
      ],
      "text/plain": [
       "   Location  Maker  Model  Year  Colour  Amount (Million ₦)  Type  \\\n",
       "0         0     26    371  2015       3               14.50     1   \n",
       "1         0     14     81  2013      14                1.55     2   \n",
       "2         2     23    397  2011      17               14.00     1   \n",
       "3         2     23    297  2011       6                4.95     1   \n",
       "4         1     44    853  2009      15                1.69     2   \n",
       "\n",
       "     Distance_Km  \n",
       "0   50000.000000  \n",
       "1  101038.321282  \n",
       "2   85000.000000  \n",
       "3  101038.321282  \n",
       "4  118906.000000  "
      ]
     },
     "execution_count": 19,
     "metadata": {},
     "output_type": "execute_result"
    }
   ],
   "source": [
    "df.head()"
   ]
  },
  {
   "cell_type": "code",
   "execution_count": 20,
   "id": "82dc12f1",
   "metadata": {},
   "outputs": [
    {
     "data": {
      "text/plain": [
       "Index(['Location', 'Maker', 'Model', 'Year', 'Colour', 'Amount (Million ₦)',\n",
       "       'Type', 'Distance_Km'],\n",
       "      dtype='object')"
      ]
     },
     "execution_count": 20,
     "metadata": {},
     "output_type": "execute_result"
    }
   ],
   "source": [
    "df.columns"
   ]
  },
  {
   "cell_type": "markdown",
   "id": "5193e3e6",
   "metadata": {},
   "source": [
    "# DATA SEGMENTATION"
   ]
  },
  {
   "cell_type": "code",
   "execution_count": 21,
   "id": "c1bc8e7f",
   "metadata": {},
   "outputs": [],
   "source": [
    "#DEPENDENT VARIABLE:target column dat we are trying to predict\n",
    "y = df[\"Amount (Million ₦)\"]\n",
    "#INDEPENDENT VARIABLE: \n",
    "x = df.drop(\"Amount (Million ₦)\", axis = 1)"
   ]
  },
  {
   "cell_type": "code",
   "execution_count": 22,
   "id": "8d8daa09",
   "metadata": {},
   "outputs": [],
   "source": [
    "from sklearn.model_selection import train_test_split\n",
    "x_train, x_test, y_train, y_test = train_test_split(x, y, test_size = 0.3)"
   ]
  },
  {
   "cell_type": "markdown",
   "id": "66b3cf97",
   "metadata": {},
   "source": [
    "# TRAINING ONE'S MODEL: load one's data into the Linear Regression Model"
   ]
  },
  {
   "cell_type": "code",
   "execution_count": 24,
   "id": "35cfe77c",
   "metadata": {},
   "outputs": [
    {
     "data": {
      "text/html": [
       "<style>#sk-container-id-2 {color: black;background-color: white;}#sk-container-id-2 pre{padding: 0;}#sk-container-id-2 div.sk-toggleable {background-color: white;}#sk-container-id-2 label.sk-toggleable__label {cursor: pointer;display: block;width: 100%;margin-bottom: 0;padding: 0.3em;box-sizing: border-box;text-align: center;}#sk-container-id-2 label.sk-toggleable__label-arrow:before {content: \"▸\";float: left;margin-right: 0.25em;color: #696969;}#sk-container-id-2 label.sk-toggleable__label-arrow:hover:before {color: black;}#sk-container-id-2 div.sk-estimator:hover label.sk-toggleable__label-arrow:before {color: black;}#sk-container-id-2 div.sk-toggleable__content {max-height: 0;max-width: 0;overflow: hidden;text-align: left;background-color: #f0f8ff;}#sk-container-id-2 div.sk-toggleable__content pre {margin: 0.2em;color: black;border-radius: 0.25em;background-color: #f0f8ff;}#sk-container-id-2 input.sk-toggleable__control:checked~div.sk-toggleable__content {max-height: 200px;max-width: 100%;overflow: auto;}#sk-container-id-2 input.sk-toggleable__control:checked~label.sk-toggleable__label-arrow:before {content: \"▾\";}#sk-container-id-2 div.sk-estimator input.sk-toggleable__control:checked~label.sk-toggleable__label {background-color: #d4ebff;}#sk-container-id-2 div.sk-label input.sk-toggleable__control:checked~label.sk-toggleable__label {background-color: #d4ebff;}#sk-container-id-2 input.sk-hidden--visually {border: 0;clip: rect(1px 1px 1px 1px);clip: rect(1px, 1px, 1px, 1px);height: 1px;margin: -1px;overflow: hidden;padding: 0;position: absolute;width: 1px;}#sk-container-id-2 div.sk-estimator {font-family: monospace;background-color: #f0f8ff;border: 1px dotted black;border-radius: 0.25em;box-sizing: border-box;margin-bottom: 0.5em;}#sk-container-id-2 div.sk-estimator:hover {background-color: #d4ebff;}#sk-container-id-2 div.sk-parallel-item::after {content: \"\";width: 100%;border-bottom: 1px solid gray;flex-grow: 1;}#sk-container-id-2 div.sk-label:hover label.sk-toggleable__label {background-color: #d4ebff;}#sk-container-id-2 div.sk-serial::before {content: \"\";position: absolute;border-left: 1px solid gray;box-sizing: border-box;top: 0;bottom: 0;left: 50%;z-index: 0;}#sk-container-id-2 div.sk-serial {display: flex;flex-direction: column;align-items: center;background-color: white;padding-right: 0.2em;padding-left: 0.2em;position: relative;}#sk-container-id-2 div.sk-item {position: relative;z-index: 1;}#sk-container-id-2 div.sk-parallel {display: flex;align-items: stretch;justify-content: center;background-color: white;position: relative;}#sk-container-id-2 div.sk-item::before, #sk-container-id-2 div.sk-parallel-item::before {content: \"\";position: absolute;border-left: 1px solid gray;box-sizing: border-box;top: 0;bottom: 0;left: 50%;z-index: -1;}#sk-container-id-2 div.sk-parallel-item {display: flex;flex-direction: column;z-index: 1;position: relative;background-color: white;}#sk-container-id-2 div.sk-parallel-item:first-child::after {align-self: flex-end;width: 50%;}#sk-container-id-2 div.sk-parallel-item:last-child::after {align-self: flex-start;width: 50%;}#sk-container-id-2 div.sk-parallel-item:only-child::after {width: 0;}#sk-container-id-2 div.sk-dashed-wrapped {border: 1px dashed gray;margin: 0 0.4em 0.5em 0.4em;box-sizing: border-box;padding-bottom: 0.4em;background-color: white;}#sk-container-id-2 div.sk-label label {font-family: monospace;font-weight: bold;display: inline-block;line-height: 1.2em;}#sk-container-id-2 div.sk-label-container {text-align: center;}#sk-container-id-2 div.sk-container {/* jupyter's `normalize.less` sets `[hidden] { display: none; }` but bootstrap.min.css set `[hidden] { display: none !important; }` so we also need the `!important` here to be able to override the default hidden behavior on the sphinx rendered scikit-learn.org. See: https://github.com/scikit-learn/scikit-learn/issues/21755 */display: inline-block !important;position: relative;}#sk-container-id-2 div.sk-text-repr-fallback {display: none;}</style><div id=\"sk-container-id-2\" class=\"sk-top-container\"><div class=\"sk-text-repr-fallback\"><pre>LinearRegression()</pre><b>In a Jupyter environment, please rerun this cell to show the HTML representation or trust the notebook. <br />On GitHub, the HTML representation is unable to render, please try loading this page with nbviewer.org.</b></div><div class=\"sk-container\" hidden><div class=\"sk-item\"><div class=\"sk-estimator sk-toggleable\"><input class=\"sk-toggleable__control sk-hidden--visually\" id=\"sk-estimator-id-2\" type=\"checkbox\" checked><label for=\"sk-estimator-id-2\" class=\"sk-toggleable__label sk-toggleable__label-arrow\">LinearRegression</label><div class=\"sk-toggleable__content\"><pre>LinearRegression()</pre></div></div></div></div></div>"
      ],
      "text/plain": [
       "LinearRegression()"
      ]
     },
     "execution_count": 24,
     "metadata": {},
     "output_type": "execute_result"
    }
   ],
   "source": [
    "from sklearn.linear_model import LinearRegression\n",
    "\n",
    "reg = LinearRegression()\n",
    "reg.fit(x_train, y_train)"
   ]
  },
  {
   "cell_type": "code",
   "execution_count": null,
   "id": "dc369d31",
   "metadata": {},
   "outputs": [],
   "source": []
  },
  {
   "cell_type": "markdown",
   "id": "42001b97",
   "metadata": {},
   "source": [
    "#  Make PREDICTIONS"
   ]
  },
  {
   "cell_type": "code",
   "execution_count": 28,
   "id": "76127118",
   "metadata": {},
   "outputs": [
    {
     "data": {
      "text/plain": [
       "array([21.80699352,  5.14018816, 25.8950923 , ..., 15.82595353,\n",
       "       23.44234064,  8.63420361])"
      ]
     },
     "execution_count": 28,
     "metadata": {},
     "output_type": "execute_result"
    }
   ],
   "source": [
    "reg.predict(x_test)"
   ]
  },
  {
   "cell_type": "code",
   "execution_count": null,
   "id": "8ccece0e",
   "metadata": {},
   "outputs": [],
   "source": []
  },
  {
   "cell_type": "markdown",
   "id": "384b669b",
   "metadata": {},
   "source": [
    "# Evaluate your MODEL"
   ]
  },
  {
   "cell_type": "code",
   "execution_count": 29,
   "id": "cd630002",
   "metadata": {},
   "outputs": [
    {
     "name": "stdout",
     "output_type": "stream",
     "text": [
      "mean_absolute_error is: 7.768988918539991\n"
     ]
    }
   ],
   "source": [
    "from sklearn.metrics import mean_absolute_error\n",
    "\n",
    "# we are using mean_absolute_error because\n",
    "# this is a regression model\n",
    "\n",
    "y_prediction = reg.predict(x_test)\n",
    "\n",
    "print('mean_absolute_error is:', mean_absolute_error(y_test, y_prediction))\n",
    "# actual before the prediction in (y_test, y_prediction)"
   ]
  },
  {
   "cell_type": "markdown",
   "id": "b511a7ef",
   "metadata": {},
   "source": [
    "# other ML Algorithms"
   ]
  },
  {
   "cell_type": "markdown",
   "id": "cc4bd625",
   "metadata": {},
   "source": [
    "# Decision tree;best performing model\n"
   ]
  },
  {
   "cell_type": "code",
   "execution_count": 30,
   "id": "342f1568",
   "metadata": {},
   "outputs": [
    {
     "name": "stdout",
     "output_type": "stream",
     "text": [
      "mean_absolute_error is: 3.9039018626577575\n"
     ]
    }
   ],
   "source": [
    "from sklearn.tree import DecisionTreeRegressor\n",
    "\n",
    "dt_reg = DecisionTreeRegressor()\n",
    "dt_reg.fit(x_train, y_train)\n",
    "y_prediction = dt_reg.predict(x_test)\n",
    "    \n",
    "print('mean_absolute_error is:', mean_absolute_error(y_test, y_prediction))"
   ]
  },
  {
   "cell_type": "code",
   "execution_count": null,
   "id": "e6d8619c",
   "metadata": {},
   "outputs": [],
   "source": []
  },
  {
   "cell_type": "markdown",
   "id": "5bcb575d",
   "metadata": {},
   "source": [
    "# Support Vector Machine (SVM)"
   ]
  },
  {
   "cell_type": "code",
   "execution_count": 31,
   "id": "ce144f20",
   "metadata": {},
   "outputs": [
    {
     "name": "stdout",
     "output_type": "stream",
     "text": [
      "mean_absolute_error is: 7.048413753182884\n"
     ]
    }
   ],
   "source": [
    "from sklearn.svm import SVR\n",
    "sv_reg = SVR()\n",
    "sv_reg.fit(x_train, y_train)\n",
    "y_prediction = sv_reg.predict(x_test)\n",
    "    \n",
    "print('mean_absolute_error is:', mean_absolute_error(y_test, y_prediction))"
   ]
  },
  {
   "cell_type": "code",
   "execution_count": 32,
   "id": "78f96134",
   "metadata": {},
   "outputs": [
    {
     "data": {
      "text/plain": [
       "<bound method Series.corr of 0       14.50\n",
       "1        1.55\n",
       "2       14.00\n",
       "3        4.95\n",
       "4        1.69\n",
       "        ...  \n",
       "4482     4.60\n",
       "4483     4.50\n",
       "4484    10.45\n",
       "4485    31.00\n",
       "4486    14.00\n",
       "Name: Amount (Million ₦), Length: 4487, dtype: float64>"
      ]
     },
     "execution_count": 32,
     "metadata": {},
     "output_type": "execute_result"
    }
   ],
   "source": [
    "df[\"Amount (Million ₦)\"].corr"
   ]
  },
  {
   "cell_type": "code",
   "execution_count": 33,
   "id": "86854359",
   "metadata": {},
   "outputs": [
    {
     "data": {
      "text/plain": [
       "Location             -0.067524\n",
       "Maker                -0.050982\n",
       "Model                 0.117746\n",
       "Year                  0.502713\n",
       "Colour               -0.082198\n",
       "Amount (Million ₦)    1.000000\n",
       "Type                 -0.367383\n",
       "Distance_Km          -0.151440\n",
       "Name: Amount (Million ₦), dtype: float64"
      ]
     },
     "execution_count": 33,
     "metadata": {},
     "output_type": "execute_result"
    }
   ],
   "source": [
    "df.corr()[\"Amount (Million ₦)\"]"
   ]
  },
  {
   "cell_type": "code",
   "execution_count": 2,
   "id": "18e20e65",
   "metadata": {},
   "outputs": [],
   "source": [
    "import pandas as pd"
   ]
  },
  {
   "cell_type": "code",
   "execution_count": 3,
   "id": "c1f8972b",
   "metadata": {},
   "outputs": [],
   "source": [
    "testdemographics =  pd.read_csv(r'C:\\Users\\USER\\Downloads\\testdemographics.csv', index_col=None)\n"
   ]
  },
  {
   "cell_type": "code",
   "execution_count": 4,
   "id": "1e834d54",
   "metadata": {},
   "outputs": [
    {
     "data": {
      "text/html": [
       "<div>\n",
       "<style scoped>\n",
       "    .dataframe tbody tr th:only-of-type {\n",
       "        vertical-align: middle;\n",
       "    }\n",
       "\n",
       "    .dataframe tbody tr th {\n",
       "        vertical-align: top;\n",
       "    }\n",
       "\n",
       "    .dataframe thead th {\n",
       "        text-align: right;\n",
       "    }\n",
       "</style>\n",
       "<table border=\"1\" class=\"dataframe\">\n",
       "  <thead>\n",
       "    <tr style=\"text-align: right;\">\n",
       "      <th></th>\n",
       "      <th>customerid</th>\n",
       "      <th>birthdate</th>\n",
       "      <th>bank_account_type</th>\n",
       "      <th>longitude_gps</th>\n",
       "      <th>latitude_gps</th>\n",
       "      <th>bank_name_clients</th>\n",
       "      <th>bank_branch_clients</th>\n",
       "      <th>employment_status_clients</th>\n",
       "      <th>level_of_education_clients</th>\n",
       "    </tr>\n",
       "  </thead>\n",
       "  <tbody>\n",
       "    <tr>\n",
       "      <th>0</th>\n",
       "      <td>8a858f305c8dd672015c93b1db645db4</td>\n",
       "      <td>1976-08-28 00:00:00.000000</td>\n",
       "      <td>Savings</td>\n",
       "      <td>5.296628</td>\n",
       "      <td>7.593965</td>\n",
       "      <td>Heritage Bank</td>\n",
       "      <td>NaN</td>\n",
       "      <td>Permanent</td>\n",
       "      <td>NaN</td>\n",
       "    </tr>\n",
       "    <tr>\n",
       "      <th>1</th>\n",
       "      <td>8a858f085a477386015a47fb049e49ca</td>\n",
       "      <td>1978-06-23 00:00:00.000000</td>\n",
       "      <td>Savings</td>\n",
       "      <td>3.294513</td>\n",
       "      <td>6.596602</td>\n",
       "      <td>UBA</td>\n",
       "      <td>NaN</td>\n",
       "      <td>Permanent</td>\n",
       "      <td>NaN</td>\n",
       "    </tr>\n",
       "    <tr>\n",
       "      <th>2</th>\n",
       "      <td>8a858e6f5cd5e874015cd6f5634c39ad</td>\n",
       "      <td>1984-04-04 00:00:00.000000</td>\n",
       "      <td>Savings</td>\n",
       "      <td>8.501912</td>\n",
       "      <td>7.729364</td>\n",
       "      <td>First Bank</td>\n",
       "      <td>NaN</td>\n",
       "      <td>Permanent</td>\n",
       "      <td>NaN</td>\n",
       "    </tr>\n",
       "    <tr>\n",
       "      <th>3</th>\n",
       "      <td>8a858e9d5bfd7037015bfdab79f61305</td>\n",
       "      <td>1983-05-28 00:00:00.000000</td>\n",
       "      <td>Savings</td>\n",
       "      <td>3.318904</td>\n",
       "      <td>6.681595</td>\n",
       "      <td>UBA</td>\n",
       "      <td>NaN</td>\n",
       "      <td>Permanent</td>\n",
       "      <td>NaN</td>\n",
       "    </tr>\n",
       "    <tr>\n",
       "      <th>4</th>\n",
       "      <td>8a858fde56eb02280156eb6dafc128ac</td>\n",
       "      <td>1982-03-29 00:00:00.000000</td>\n",
       "      <td>Savings</td>\n",
       "      <td>6.354624</td>\n",
       "      <td>4.949031</td>\n",
       "      <td>First Bank</td>\n",
       "      <td>NaN</td>\n",
       "      <td>Self-Employed</td>\n",
       "      <td>NaN</td>\n",
       "    </tr>\n",
       "  </tbody>\n",
       "</table>\n",
       "</div>"
      ],
      "text/plain": [
       "                         customerid                   birthdate  \\\n",
       "0  8a858f305c8dd672015c93b1db645db4  1976-08-28 00:00:00.000000   \n",
       "1  8a858f085a477386015a47fb049e49ca  1978-06-23 00:00:00.000000   \n",
       "2  8a858e6f5cd5e874015cd6f5634c39ad  1984-04-04 00:00:00.000000   \n",
       "3  8a858e9d5bfd7037015bfdab79f61305  1983-05-28 00:00:00.000000   \n",
       "4  8a858fde56eb02280156eb6dafc128ac  1982-03-29 00:00:00.000000   \n",
       "\n",
       "  bank_account_type  longitude_gps  latitude_gps bank_name_clients  \\\n",
       "0           Savings       5.296628      7.593965     Heritage Bank   \n",
       "1           Savings       3.294513      6.596602               UBA   \n",
       "2           Savings       8.501912      7.729364        First Bank   \n",
       "3           Savings       3.318904      6.681595               UBA   \n",
       "4           Savings       6.354624      4.949031        First Bank   \n",
       "\n",
       "  bank_branch_clients employment_status_clients level_of_education_clients  \n",
       "0                 NaN                 Permanent                        NaN  \n",
       "1                 NaN                 Permanent                        NaN  \n",
       "2                 NaN                 Permanent                        NaN  \n",
       "3                 NaN                 Permanent                        NaN  \n",
       "4                 NaN             Self-Employed                        NaN  "
      ]
     },
     "execution_count": 4,
     "metadata": {},
     "output_type": "execute_result"
    }
   ],
   "source": [
    "testdemographics.head()"
   ]
  },
  {
   "cell_type": "code",
   "execution_count": 5,
   "id": "e41560b1",
   "metadata": {},
   "outputs": [],
   "source": [
    "traindemographics =  pd.read_csv(r'C:\\Users\\USER\\Downloads\\traindemographics.csv', index_col=None)"
   ]
  },
  {
   "cell_type": "code",
   "execution_count": 6,
   "id": "36930af8",
   "metadata": {},
   "outputs": [],
   "source": [
    "testperf =  pd.read_csv(r'C:\\Users\\USER\\Downloads\\testperf.csv', index_col=None)"
   ]
  },
  {
   "cell_type": "code",
   "execution_count": 7,
   "id": "1917fdac",
   "metadata": {},
   "outputs": [],
   "source": [
    "trainperf =  pd.read_csv(r'C:\\Users\\USER\\Downloads\\trainperf.csv', index_col=None)"
   ]
  },
  {
   "cell_type": "code",
   "execution_count": 8,
   "id": "1a3208ee",
   "metadata": {},
   "outputs": [
    {
     "data": {
      "text/html": [
       "<div>\n",
       "<style scoped>\n",
       "    .dataframe tbody tr th:only-of-type {\n",
       "        vertical-align: middle;\n",
       "    }\n",
       "\n",
       "    .dataframe tbody tr th {\n",
       "        vertical-align: top;\n",
       "    }\n",
       "\n",
       "    .dataframe thead th {\n",
       "        text-align: right;\n",
       "    }\n",
       "</style>\n",
       "<table border=\"1\" class=\"dataframe\">\n",
       "  <thead>\n",
       "    <tr style=\"text-align: right;\">\n",
       "      <th></th>\n",
       "      <th>customerid</th>\n",
       "      <th>birthdate</th>\n",
       "      <th>bank_account_type</th>\n",
       "      <th>longitude_gps</th>\n",
       "      <th>latitude_gps</th>\n",
       "      <th>bank_name_clients</th>\n",
       "      <th>bank_branch_clients</th>\n",
       "      <th>employment_status_clients</th>\n",
       "      <th>level_of_education_clients</th>\n",
       "    </tr>\n",
       "  </thead>\n",
       "  <tbody>\n",
       "    <tr>\n",
       "      <th>0</th>\n",
       "      <td>8a858e135cb22031015cbafc76964ebd</td>\n",
       "      <td>1973-10-10 00:00:00.000000</td>\n",
       "      <td>Savings</td>\n",
       "      <td>3.319219</td>\n",
       "      <td>6.528604</td>\n",
       "      <td>GT Bank</td>\n",
       "      <td>NaN</td>\n",
       "      <td>NaN</td>\n",
       "      <td>NaN</td>\n",
       "    </tr>\n",
       "    <tr>\n",
       "      <th>1</th>\n",
       "      <td>8a858e275c7ea5ec015c82482d7c3996</td>\n",
       "      <td>1986-01-21 00:00:00.000000</td>\n",
       "      <td>Savings</td>\n",
       "      <td>3.325598</td>\n",
       "      <td>7.119403</td>\n",
       "      <td>Sterling Bank</td>\n",
       "      <td>NaN</td>\n",
       "      <td>Permanent</td>\n",
       "      <td>NaN</td>\n",
       "    </tr>\n",
       "    <tr>\n",
       "      <th>2</th>\n",
       "      <td>8a858e5b5bd99460015bdc95cd485634</td>\n",
       "      <td>1987-04-01 00:00:00.000000</td>\n",
       "      <td>Savings</td>\n",
       "      <td>5.746100</td>\n",
       "      <td>5.563174</td>\n",
       "      <td>Fidelity Bank</td>\n",
       "      <td>NaN</td>\n",
       "      <td>NaN</td>\n",
       "      <td>NaN</td>\n",
       "    </tr>\n",
       "    <tr>\n",
       "      <th>3</th>\n",
       "      <td>8a858efd5ca70688015cabd1f1e94b55</td>\n",
       "      <td>1991-07-19 00:00:00.000000</td>\n",
       "      <td>Savings</td>\n",
       "      <td>3.362850</td>\n",
       "      <td>6.642485</td>\n",
       "      <td>GT Bank</td>\n",
       "      <td>NaN</td>\n",
       "      <td>Permanent</td>\n",
       "      <td>NaN</td>\n",
       "    </tr>\n",
       "    <tr>\n",
       "      <th>4</th>\n",
       "      <td>8a858e785acd3412015acd48f4920d04</td>\n",
       "      <td>1982-11-22 00:00:00.000000</td>\n",
       "      <td>Savings</td>\n",
       "      <td>8.455332</td>\n",
       "      <td>11.971410</td>\n",
       "      <td>GT Bank</td>\n",
       "      <td>NaN</td>\n",
       "      <td>Permanent</td>\n",
       "      <td>NaN</td>\n",
       "    </tr>\n",
       "    <tr>\n",
       "      <th>5</th>\n",
       "      <td>8a858f045bc9690c015bca251e9a4e95</td>\n",
       "      <td>1978-12-11 00:00:00.000000</td>\n",
       "      <td>Savings</td>\n",
       "      <td>3.330087</td>\n",
       "      <td>6.552518</td>\n",
       "      <td>GT Bank</td>\n",
       "      <td>NaN</td>\n",
       "      <td>Permanent</td>\n",
       "      <td>NaN</td>\n",
       "    </tr>\n",
       "    <tr>\n",
       "      <th>6</th>\n",
       "      <td>8a858ea05a859123015a8892914d15b7</td>\n",
       "      <td>1990-07-21 00:00:00.000000</td>\n",
       "      <td>Savings</td>\n",
       "      <td>3.365935</td>\n",
       "      <td>6.564823</td>\n",
       "      <td>Access Bank</td>\n",
       "      <td>NaN</td>\n",
       "      <td>Permanent</td>\n",
       "      <td>NaN</td>\n",
       "    </tr>\n",
       "    <tr>\n",
       "      <th>7</th>\n",
       "      <td>8a858f275c451af5015c546a50ce55ed</td>\n",
       "      <td>1986-09-09 00:00:00.000000</td>\n",
       "      <td>Savings</td>\n",
       "      <td>4.734382</td>\n",
       "      <td>7.606868</td>\n",
       "      <td>GT Bank</td>\n",
       "      <td>NaN</td>\n",
       "      <td>Permanent</td>\n",
       "      <td>NaN</td>\n",
       "    </tr>\n",
       "    <tr>\n",
       "      <th>8</th>\n",
       "      <td>8a858f405d13c45f015d13dd93ec0c1c</td>\n",
       "      <td>1992-11-17 00:00:00.000000</td>\n",
       "      <td>Savings</td>\n",
       "      <td>3.290590</td>\n",
       "      <td>6.612075</td>\n",
       "      <td>EcoBank</td>\n",
       "      <td>NaN</td>\n",
       "      <td>Permanent</td>\n",
       "      <td>NaN</td>\n",
       "    </tr>\n",
       "    <tr>\n",
       "      <th>9</th>\n",
       "      <td>8a858f735c161bda015c164d86632026</td>\n",
       "      <td>1965-02-23 00:00:00.000000</td>\n",
       "      <td>Savings</td>\n",
       "      <td>3.362783</td>\n",
       "      <td>6.509418</td>\n",
       "      <td>EcoBank</td>\n",
       "      <td>NaN</td>\n",
       "      <td>Permanent</td>\n",
       "      <td>NaN</td>\n",
       "    </tr>\n",
       "  </tbody>\n",
       "</table>\n",
       "</div>"
      ],
      "text/plain": [
       "                         customerid                   birthdate  \\\n",
       "0  8a858e135cb22031015cbafc76964ebd  1973-10-10 00:00:00.000000   \n",
       "1  8a858e275c7ea5ec015c82482d7c3996  1986-01-21 00:00:00.000000   \n",
       "2  8a858e5b5bd99460015bdc95cd485634  1987-04-01 00:00:00.000000   \n",
       "3  8a858efd5ca70688015cabd1f1e94b55  1991-07-19 00:00:00.000000   \n",
       "4  8a858e785acd3412015acd48f4920d04  1982-11-22 00:00:00.000000   \n",
       "5  8a858f045bc9690c015bca251e9a4e95  1978-12-11 00:00:00.000000   \n",
       "6  8a858ea05a859123015a8892914d15b7  1990-07-21 00:00:00.000000   \n",
       "7  8a858f275c451af5015c546a50ce55ed  1986-09-09 00:00:00.000000   \n",
       "8  8a858f405d13c45f015d13dd93ec0c1c  1992-11-17 00:00:00.000000   \n",
       "9  8a858f735c161bda015c164d86632026  1965-02-23 00:00:00.000000   \n",
       "\n",
       "  bank_account_type  longitude_gps  latitude_gps bank_name_clients  \\\n",
       "0           Savings       3.319219      6.528604           GT Bank   \n",
       "1           Savings       3.325598      7.119403     Sterling Bank   \n",
       "2           Savings       5.746100      5.563174     Fidelity Bank   \n",
       "3           Savings       3.362850      6.642485           GT Bank   \n",
       "4           Savings       8.455332     11.971410           GT Bank   \n",
       "5           Savings       3.330087      6.552518           GT Bank   \n",
       "6           Savings       3.365935      6.564823       Access Bank   \n",
       "7           Savings       4.734382      7.606868           GT Bank   \n",
       "8           Savings       3.290590      6.612075           EcoBank   \n",
       "9           Savings       3.362783      6.509418           EcoBank   \n",
       "\n",
       "  bank_branch_clients employment_status_clients level_of_education_clients  \n",
       "0                 NaN                       NaN                        NaN  \n",
       "1                 NaN                 Permanent                        NaN  \n",
       "2                 NaN                       NaN                        NaN  \n",
       "3                 NaN                 Permanent                        NaN  \n",
       "4                 NaN                 Permanent                        NaN  \n",
       "5                 NaN                 Permanent                        NaN  \n",
       "6                 NaN                 Permanent                        NaN  \n",
       "7                 NaN                 Permanent                        NaN  \n",
       "8                 NaN                 Permanent                        NaN  \n",
       "9                 NaN                 Permanent                        NaN  "
      ]
     },
     "execution_count": 8,
     "metadata": {},
     "output_type": "execute_result"
    }
   ],
   "source": [
    "traindemographics.head(10)"
   ]
  },
  {
   "cell_type": "code",
   "execution_count": 9,
   "id": "38ec82f9",
   "metadata": {},
   "outputs": [],
   "source": [
    "SampleSubmission =  pd.read_csv(r'C:\\Users\\USER\\Downloads\\SampleSubmission.csv', index_col=None)"
   ]
  },
  {
   "cell_type": "code",
   "execution_count": 10,
   "id": "d2b2c4a2",
   "metadata": {},
   "outputs": [
    {
     "data": {
      "text/html": [
       "<div>\n",
       "<style scoped>\n",
       "    .dataframe tbody tr th:only-of-type {\n",
       "        vertical-align: middle;\n",
       "    }\n",
       "\n",
       "    .dataframe tbody tr th {\n",
       "        vertical-align: top;\n",
       "    }\n",
       "\n",
       "    .dataframe thead th {\n",
       "        text-align: right;\n",
       "    }\n",
       "</style>\n",
       "<table border=\"1\" class=\"dataframe\">\n",
       "  <thead>\n",
       "    <tr style=\"text-align: right;\">\n",
       "      <th></th>\n",
       "      <th>customerid</th>\n",
       "      <th>Good_Bad_flag</th>\n",
       "    </tr>\n",
       "  </thead>\n",
       "  <tbody>\n",
       "    <tr>\n",
       "      <th>0</th>\n",
       "      <td>8a28afc7474813a40147639ec637156b</td>\n",
       "      <td>1</td>\n",
       "    </tr>\n",
       "    <tr>\n",
       "      <th>1</th>\n",
       "      <td>8a3735d5518aba7301518ac34413010d</td>\n",
       "      <td>1</td>\n",
       "    </tr>\n",
       "    <tr>\n",
       "      <th>2</th>\n",
       "      <td>8a76e7d443e6e97c0143ed099d102b1d</td>\n",
       "      <td>1</td>\n",
       "    </tr>\n",
       "    <tr>\n",
       "      <th>3</th>\n",
       "      <td>8a818823525dceef01525deda2480384</td>\n",
       "      <td>1</td>\n",
       "    </tr>\n",
       "    <tr>\n",
       "      <th>4</th>\n",
       "      <td>8a818926522ea5ef01523aff15c37482</td>\n",
       "      <td>1</td>\n",
       "    </tr>\n",
       "    <tr>\n",
       "      <th>5</th>\n",
       "      <td>8a8189f9526ad7de015280bef19d5811</td>\n",
       "      <td>1</td>\n",
       "    </tr>\n",
       "    <tr>\n",
       "      <th>6</th>\n",
       "      <td>8a85880353acff880153b92f8599568b</td>\n",
       "      <td>1</td>\n",
       "    </tr>\n",
       "    <tr>\n",
       "      <th>7</th>\n",
       "      <td>8a85880353acff880153b9993fe358d9</td>\n",
       "      <td>1</td>\n",
       "    </tr>\n",
       "    <tr>\n",
       "      <th>8</th>\n",
       "      <td>8a85880353acff880153bd56e93f75ff</td>\n",
       "      <td>1</td>\n",
       "    </tr>\n",
       "    <tr>\n",
       "      <th>9</th>\n",
       "      <td>8a85881053bc33670153bda8562417c7</td>\n",
       "      <td>1</td>\n",
       "    </tr>\n",
       "  </tbody>\n",
       "</table>\n",
       "</div>"
      ],
      "text/plain": [
       "                         customerid  Good_Bad_flag\n",
       "0  8a28afc7474813a40147639ec637156b              1\n",
       "1  8a3735d5518aba7301518ac34413010d              1\n",
       "2  8a76e7d443e6e97c0143ed099d102b1d              1\n",
       "3  8a818823525dceef01525deda2480384              1\n",
       "4  8a818926522ea5ef01523aff15c37482              1\n",
       "5  8a8189f9526ad7de015280bef19d5811              1\n",
       "6  8a85880353acff880153b92f8599568b              1\n",
       "7  8a85880353acff880153b9993fe358d9              1\n",
       "8  8a85880353acff880153bd56e93f75ff              1\n",
       "9  8a85881053bc33670153bda8562417c7              1"
      ]
     },
     "execution_count": 10,
     "metadata": {},
     "output_type": "execute_result"
    }
   ],
   "source": [
    "SampleSubmission.head(10)"
   ]
  },
  {
   "cell_type": "code",
   "execution_count": 11,
   "id": "14ddf1ff",
   "metadata": {},
   "outputs": [
    {
     "data": {
      "text/html": [
       "<div>\n",
       "<style scoped>\n",
       "    .dataframe tbody tr th:only-of-type {\n",
       "        vertical-align: middle;\n",
       "    }\n",
       "\n",
       "    .dataframe tbody tr th {\n",
       "        vertical-align: top;\n",
       "    }\n",
       "\n",
       "    .dataframe thead th {\n",
       "        text-align: right;\n",
       "    }\n",
       "</style>\n",
       "<table border=\"1\" class=\"dataframe\">\n",
       "  <thead>\n",
       "    <tr style=\"text-align: right;\">\n",
       "      <th></th>\n",
       "      <th>customerid</th>\n",
       "      <th>systemloanid</th>\n",
       "      <th>loannumber</th>\n",
       "      <th>approveddate</th>\n",
       "      <th>creationdate</th>\n",
       "      <th>loanamount</th>\n",
       "      <th>totaldue</th>\n",
       "      <th>termdays</th>\n",
       "      <th>referredby</th>\n",
       "      <th>good_bad_flag</th>\n",
       "    </tr>\n",
       "  </thead>\n",
       "  <tbody>\n",
       "    <tr>\n",
       "      <th>0</th>\n",
       "      <td>8a2a81a74ce8c05d014cfb32a0da1049</td>\n",
       "      <td>301994762</td>\n",
       "      <td>12</td>\n",
       "      <td>2017-07-25 08:22:56.000000</td>\n",
       "      <td>2017-07-25 07:22:47.000000</td>\n",
       "      <td>30000.0</td>\n",
       "      <td>34500.0</td>\n",
       "      <td>30</td>\n",
       "      <td>NaN</td>\n",
       "      <td>Good</td>\n",
       "    </tr>\n",
       "    <tr>\n",
       "      <th>1</th>\n",
       "      <td>8a85886e54beabf90154c0a29ae757c0</td>\n",
       "      <td>301965204</td>\n",
       "      <td>2</td>\n",
       "      <td>2017-07-05 17:04:41.000000</td>\n",
       "      <td>2017-07-05 16:04:18.000000</td>\n",
       "      <td>15000.0</td>\n",
       "      <td>17250.0</td>\n",
       "      <td>30</td>\n",
       "      <td>NaN</td>\n",
       "      <td>Good</td>\n",
       "    </tr>\n",
       "    <tr>\n",
       "      <th>2</th>\n",
       "      <td>8a8588f35438fe12015444567666018e</td>\n",
       "      <td>301966580</td>\n",
       "      <td>7</td>\n",
       "      <td>2017-07-06 14:52:57.000000</td>\n",
       "      <td>2017-07-06 13:52:51.000000</td>\n",
       "      <td>20000.0</td>\n",
       "      <td>22250.0</td>\n",
       "      <td>15</td>\n",
       "      <td>NaN</td>\n",
       "      <td>Good</td>\n",
       "    </tr>\n",
       "    <tr>\n",
       "      <th>3</th>\n",
       "      <td>8a85890754145ace015429211b513e16</td>\n",
       "      <td>301999343</td>\n",
       "      <td>3</td>\n",
       "      <td>2017-07-27 19:00:41.000000</td>\n",
       "      <td>2017-07-27 18:00:35.000000</td>\n",
       "      <td>10000.0</td>\n",
       "      <td>11500.0</td>\n",
       "      <td>15</td>\n",
       "      <td>NaN</td>\n",
       "      <td>Good</td>\n",
       "    </tr>\n",
       "    <tr>\n",
       "      <th>4</th>\n",
       "      <td>8a858970548359cc0154883481981866</td>\n",
       "      <td>301962360</td>\n",
       "      <td>9</td>\n",
       "      <td>2017-07-03 23:42:45.000000</td>\n",
       "      <td>2017-07-03 22:42:39.000000</td>\n",
       "      <td>40000.0</td>\n",
       "      <td>44000.0</td>\n",
       "      <td>30</td>\n",
       "      <td>NaN</td>\n",
       "      <td>Good</td>\n",
       "    </tr>\n",
       "    <tr>\n",
       "      <th>5</th>\n",
       "      <td>8a8589f35451855401546b0738c42524</td>\n",
       "      <td>301986516</td>\n",
       "      <td>8</td>\n",
       "      <td>2017-07-19 21:46:24.000000</td>\n",
       "      <td>2017-07-19 20:46:18.000000</td>\n",
       "      <td>30000.0</td>\n",
       "      <td>39000.0</td>\n",
       "      <td>60</td>\n",
       "      <td>NaN</td>\n",
       "      <td>Good</td>\n",
       "    </tr>\n",
       "    <tr>\n",
       "      <th>6</th>\n",
       "      <td>8a858e095c59b91b015c5e5cea3719bc</td>\n",
       "      <td>301972027</td>\n",
       "      <td>3</td>\n",
       "      <td>2017-07-10 19:25:33.000000</td>\n",
       "      <td>2017-07-10 18:25:28.000000</td>\n",
       "      <td>10000.0</td>\n",
       "      <td>13000.0</td>\n",
       "      <td>30</td>\n",
       "      <td>NaN</td>\n",
       "      <td>Good</td>\n",
       "    </tr>\n",
       "    <tr>\n",
       "      <th>7</th>\n",
       "      <td>8a858e1158dc4d830158f7bde4f47ea7</td>\n",
       "      <td>301994428</td>\n",
       "      <td>10</td>\n",
       "      <td>2017-07-24 23:42:27.000000</td>\n",
       "      <td>2017-07-24 22:42:21.000000</td>\n",
       "      <td>30000.0</td>\n",
       "      <td>34500.0</td>\n",
       "      <td>30</td>\n",
       "      <td>NaN</td>\n",
       "      <td>Good</td>\n",
       "    </tr>\n",
       "    <tr>\n",
       "      <th>8</th>\n",
       "      <td>8a858e185b4923b4015b4ae48d28646a</td>\n",
       "      <td>301996687</td>\n",
       "      <td>4</td>\n",
       "      <td>2017-07-26 10:53:05.000000</td>\n",
       "      <td>2017-07-26 09:52:57.000000</td>\n",
       "      <td>10000.0</td>\n",
       "      <td>11500.0</td>\n",
       "      <td>15</td>\n",
       "      <td>NaN</td>\n",
       "      <td>Good</td>\n",
       "    </tr>\n",
       "    <tr>\n",
       "      <th>9</th>\n",
       "      <td>8a858e1d5cd58f9e015ceda4bdb63673</td>\n",
       "      <td>301981931</td>\n",
       "      <td>2</td>\n",
       "      <td>2017-07-17 13:48:42.000000</td>\n",
       "      <td>2017-07-17 12:48:35.000000</td>\n",
       "      <td>10000.0</td>\n",
       "      <td>11500.0</td>\n",
       "      <td>15</td>\n",
       "      <td>NaN</td>\n",
       "      <td>Good</td>\n",
       "    </tr>\n",
       "  </tbody>\n",
       "</table>\n",
       "</div>"
      ],
      "text/plain": [
       "                         customerid  systemloanid  loannumber  \\\n",
       "0  8a2a81a74ce8c05d014cfb32a0da1049     301994762          12   \n",
       "1  8a85886e54beabf90154c0a29ae757c0     301965204           2   \n",
       "2  8a8588f35438fe12015444567666018e     301966580           7   \n",
       "3  8a85890754145ace015429211b513e16     301999343           3   \n",
       "4  8a858970548359cc0154883481981866     301962360           9   \n",
       "5  8a8589f35451855401546b0738c42524     301986516           8   \n",
       "6  8a858e095c59b91b015c5e5cea3719bc     301972027           3   \n",
       "7  8a858e1158dc4d830158f7bde4f47ea7     301994428          10   \n",
       "8  8a858e185b4923b4015b4ae48d28646a     301996687           4   \n",
       "9  8a858e1d5cd58f9e015ceda4bdb63673     301981931           2   \n",
       "\n",
       "                 approveddate                creationdate  loanamount  \\\n",
       "0  2017-07-25 08:22:56.000000  2017-07-25 07:22:47.000000     30000.0   \n",
       "1  2017-07-05 17:04:41.000000  2017-07-05 16:04:18.000000     15000.0   \n",
       "2  2017-07-06 14:52:57.000000  2017-07-06 13:52:51.000000     20000.0   \n",
       "3  2017-07-27 19:00:41.000000  2017-07-27 18:00:35.000000     10000.0   \n",
       "4  2017-07-03 23:42:45.000000  2017-07-03 22:42:39.000000     40000.0   \n",
       "5  2017-07-19 21:46:24.000000  2017-07-19 20:46:18.000000     30000.0   \n",
       "6  2017-07-10 19:25:33.000000  2017-07-10 18:25:28.000000     10000.0   \n",
       "7  2017-07-24 23:42:27.000000  2017-07-24 22:42:21.000000     30000.0   \n",
       "8  2017-07-26 10:53:05.000000  2017-07-26 09:52:57.000000     10000.0   \n",
       "9  2017-07-17 13:48:42.000000  2017-07-17 12:48:35.000000     10000.0   \n",
       "\n",
       "   totaldue  termdays referredby good_bad_flag  \n",
       "0   34500.0        30        NaN          Good  \n",
       "1   17250.0        30        NaN          Good  \n",
       "2   22250.0        15        NaN          Good  \n",
       "3   11500.0        15        NaN          Good  \n",
       "4   44000.0        30        NaN          Good  \n",
       "5   39000.0        60        NaN          Good  \n",
       "6   13000.0        30        NaN          Good  \n",
       "7   34500.0        30        NaN          Good  \n",
       "8   11500.0        15        NaN          Good  \n",
       "9   11500.0        15        NaN          Good  "
      ]
     },
     "execution_count": 11,
     "metadata": {},
     "output_type": "execute_result"
    }
   ],
   "source": [
    "trainperf.head(10)"
   ]
  },
  {
   "cell_type": "code",
   "execution_count": null,
   "id": "728ad403",
   "metadata": {},
   "outputs": [],
   "source": []
  }
 ],
 "metadata": {
  "kernelspec": {
   "display_name": "Python 3 (ipykernel)",
   "language": "python",
   "name": "python3"
  },
  "language_info": {
   "codemirror_mode": {
    "name": "ipython",
    "version": 3
   },
   "file_extension": ".py",
   "mimetype": "text/x-python",
   "name": "python",
   "nbconvert_exporter": "python",
   "pygments_lexer": "ipython3",
   "version": "3.9.7"
  }
 },
 "nbformat": 4,
 "nbformat_minor": 5
}
